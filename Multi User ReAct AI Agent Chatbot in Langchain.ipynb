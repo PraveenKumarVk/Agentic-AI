{
 "cells": [
  {
   "cell_type": "code",
   "execution_count": 3,
   "id": "88beb890-c111-428f-9ca9-25471ebdbb46",
   "metadata": {},
   "outputs": [],
   "source": [
    "import os\n",
    "import yaml\n",
    "with open('chatgpt-api-credentials.yml') as file:\n",
    "    openai_key = yaml.safe_load(file)\n",
    "with open('tavily-api-credentials.yml') as file:\n",
    "    tavilyai_key = yaml.safe_load(file)\n",
    "with open('weather-api-credentials.yml') as file:\n",
    "    weather_key = yaml.safe_load(file)\n",
    "os.environ['OPENAI_API_KEY'] = openai_key['OPENAI-API-KEY']\n",
    "os.environ['TAVILY_API_KEY'] = tavilyai_key['TAVILY-API-KEY']\n",
    "weather_api = weather_key['WEATHER-API-KEY']"
   ]
  },
  {
   "cell_type": "code",
   "execution_count": 5,
   "id": "a60d5c36-c488-4ba6-b86c-746d741dcab6",
   "metadata": {},
   "outputs": [],
   "source": [
    "from langchain_community.tools.tavily_search import TavilySearchResults\n",
    "from langchain_core.tools import tool\n",
    "import requests\n",
    "import json\n",
    "\n",
    "tv_search = TavilySearchResults(max_results=3,search_depth=\"advanced\",max_tokens=10000)\n",
    "\n",
    "@tool\n",
    "def search_web(query: str) -> list:\n",
    "    \"\"\" Search the web for a query \"\"\"\n",
    "    tavily_tool = TavilySearchResults(max_results=2)\n",
    "    results = tavily_tool.invoke(query)\n",
    "    return results\n",
    "\n",
    "@tool\n",
    "def get_weather(query: str) -> list:\n",
    "    \"\"\" Search weatherapi to get weather results \"\"\"\n",
    "    base_url = \"http://api.weatherapi.com/v1/current.json\"\n",
    "    complete_url = f\"{base_url}?key={weather_api}&q={query}\"\n",
    "    "
   ]
  },
  {
   "cell_type": "code",
   "execution_count": 10,
   "id": "0c490790-ca79-48f0-96d7-e72183c27a20",
   "metadata": {},
   "outputs": [],
   "source": [
    "from langchain_openai import ChatOpenAI\n",
    "from langchain.agents import AgentExecutor\n",
    "from langchain.agents import create_tool_calling_agent\n",
    "from langchain_core.prompts import ChatPromptTemplate, MessagesPlaceholder\n",
    "\n",
    "chatgpt = ChatOpenAI(model=\"gpt-4o\",temperature=0.3)\n",
    "tools =[search_web,get_weather]\n",
    "\n",
    "sys_prompt = \"\"\"\n",
    "        Act as helpful AI assitant and use the tools that are disposed at you to perform the tasks as needed.\n",
    "        - get_weather : whenever user asks a query about weather.\n",
    "        - search_web : whenever user asks about current events or if you dont know the answer.\n",
    "        \"\"\"\n",
    "\n",
    "prompt_template = ChatPromptTemplate.from_messages(\n",
    "    [\n",
    "        (\"system\", sys_prompt),\n",
    "        MessagesPlaceholder(variable_name=\"history\", optional=True),\n",
    "        (\"human\",\"{query}\"),\n",
    "        MessagesPlaceholder(variable_name=\"agent_scratchpad\"),\n",
    "    ]\n",
    ")\n",
    "\n",
    "chatgpt_with_tools = chatgpt.bind_tools(tools)\n",
    "agent = create_tool_calling_agent(chatgpt,tools,prompt_template)"
   ]
  },
  {
   "cell_type": "code",
   "execution_count": 11,
   "id": "5e74d19f-16ac-4ff7-bcbf-4695667187a4",
   "metadata": {},
   "outputs": [],
   "source": [
    "agent_executor = AgentExecutor(agent=agent, tools=tools)"
   ]
  },
  {
   "cell_type": "code",
   "execution_count": 12,
   "id": "f0b0699e-9921-409c-b677-5c0cb2dd52ab",
   "metadata": {},
   "outputs": [
    {
     "name": "stdout",
     "output_type": "stream",
     "text": [
      "rm: memory.db: No such file or directory\n"
     ]
    }
   ],
   "source": [
    "!rm memory.db"
   ]
  },
  {
   "cell_type": "code",
   "execution_count": 14,
   "id": "84bb817d-b374-46c1-bfdf-d4815c7f3050",
   "metadata": {},
   "outputs": [],
   "source": [
    "from langchain_community.chat_message_histories import SQLChatMessageHistory\n",
    "from langchain_core.runnables.history import RunnableWithMessageHistory\n",
    "\n",
    "def get_session_history_db(session_id):\n",
    "    return SQLChatMessageHistory(session_id,\"sqlite:///memory.db\")\n",
    "\n",
    "agentic_chatbot = RunnableWithMessageHistory(\n",
    "                    agent_executor,\n",
    "                    get_session_history_db,\n",
    "                    input_messages_key=\"query\",\n",
    "                    history_messages_key=\"history\",\n",
    "                    )\n",
    "\n",
    "from IPython.display import Markdown, display\n",
    "def chat_with_agent(prompt:str,session_id:str):\n",
    "    response = agentic_chatbot.invoke(\n",
    "        {\"query\":prompt},{\"configurable\":{\"session_id\":session_id}}\n",
    "    )\n",
    "    display(Markdown(response['output']))"
   ]
  },
  {
   "cell_type": "code",
   "execution_count": 15,
   "id": "a4780ba2-6978-4124-8622-1b7e8e6bc21e",
   "metadata": {},
   "outputs": [
    {
     "data": {
      "text/markdown": [
       "Naga Chaitanya is currently engaged to Sobhita Dhulipala."
      ],
      "text/plain": [
       "<IPython.core.display.Markdown object>"
      ]
     },
     "metadata": {},
     "output_type": "display_data"
    }
   ],
   "source": [
    "user=\"praveen\"\n",
    "query=\"Who is naga chaitanya married to?\"\n",
    "chat_with_agent(query,user)"
   ]
  },
  {
   "cell_type": "code",
   "execution_count": 16,
   "id": "7ac1ab18-38c6-456c-9ca5-3adab33a783c",
   "metadata": {},
   "outputs": [
    {
     "data": {
      "text/markdown": [
       "Pawan Kalyan is currently married to Anna Lezhneva."
      ],
      "text/plain": [
       "<IPython.core.display.Markdown object>"
      ]
     },
     "metadata": {},
     "output_type": "display_data"
    }
   ],
   "source": [
    "user2=\"vk\"\n",
    "query2=\"Who is pawan kalyan married to?\"\n",
    "chat_with_agent(query2,user2)"
   ]
  },
  {
   "cell_type": "code",
   "execution_count": 18,
   "id": "9569c476-bb46-4adb-b746-f386e268e4ec",
   "metadata": {},
   "outputs": [
    {
     "data": {
      "text/markdown": [
       "Naga Chaitanya divorced Samantha Ruth Prabhu. They announced their separation in October 2021 after being married for nearly four years."
      ],
      "text/plain": [
       "<IPython.core.display.Markdown object>"
      ]
     },
     "metadata": {},
     "output_type": "display_data"
    },
    {
     "data": {
      "text/markdown": [
       "Pawan Kalyan has been divorced twice. His first marriage was to Nandini, which ended in divorce in 2007. His second marriage was to Renu Desai, which ended in divorce in 2012."
      ],
      "text/plain": [
       "<IPython.core.display.Markdown object>"
      ]
     },
     "metadata": {},
     "output_type": "display_data"
    }
   ],
   "source": [
    "query3=\"who did he divorce?\"\n",
    "chat_with_agent(query3,user)\n",
    "chat_with_agent(query3,user2)"
   ]
  }
 ],
 "metadata": {
  "kernelspec": {
   "display_name": "Python 3 (ipykernel)",
   "language": "python",
   "name": "python3"
  },
  "language_info": {
   "codemirror_mode": {
    "name": "ipython",
    "version": 3
   },
   "file_extension": ".py",
   "mimetype": "text/x-python",
   "name": "python",
   "nbconvert_exporter": "python",
   "pygments_lexer": "ipython3",
   "version": "3.12.3"
  }
 },
 "nbformat": 4,
 "nbformat_minor": 5
}

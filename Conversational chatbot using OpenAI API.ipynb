{
 "cells": [
  {
   "cell_type": "code",
   "execution_count": 7,
   "id": "b6d42f70-2eae-4893-bc93-4d9b5e208966",
   "metadata": {},
   "outputs": [
    {
     "name": "stdout",
     "output_type": "stream",
     "text": [
      "Requirement already satisfied: langchain in /opt/anaconda3/envs/av/lib/python3.12/site-packages (0.2.14)\n",
      "Requirement already satisfied: PyYAML>=5.3 in /opt/anaconda3/envs/av/lib/python3.12/site-packages (from langchain) (6.0.1)\n",
      "Requirement already satisfied: SQLAlchemy<3,>=1.4 in /opt/anaconda3/envs/av/lib/python3.12/site-packages (from langchain) (2.0.25)\n",
      "Requirement already satisfied: aiohttp<4.0.0,>=3.8.3 in /opt/anaconda3/envs/av/lib/python3.12/site-packages (from langchain) (3.9.5)\n",
      "Requirement already satisfied: langchain-core<0.3.0,>=0.2.32 in /opt/anaconda3/envs/av/lib/python3.12/site-packages (from langchain) (0.2.33)\n",
      "Requirement already satisfied: langchain-text-splitters<0.3.0,>=0.2.0 in /opt/anaconda3/envs/av/lib/python3.12/site-packages (from langchain) (0.2.2)\n",
      "Requirement already satisfied: langsmith<0.2.0,>=0.1.17 in /opt/anaconda3/envs/av/lib/python3.12/site-packages (from langchain) (0.1.100)\n",
      "Requirement already satisfied: numpy<2.0.0,>=1.26.0 in /opt/anaconda3/envs/av/lib/python3.12/site-packages (from langchain) (1.26.4)\n",
      "Requirement already satisfied: pydantic<3,>=1 in /opt/anaconda3/envs/av/lib/python3.12/site-packages (from langchain) (2.8.2)\n",
      "Requirement already satisfied: requests<3,>=2 in /opt/anaconda3/envs/av/lib/python3.12/site-packages (from langchain) (2.32.2)\n",
      "Requirement already satisfied: tenacity!=8.4.0,<9.0.0,>=8.1.0 in /opt/anaconda3/envs/av/lib/python3.12/site-packages (from langchain) (8.2.2)\n",
      "Requirement already satisfied: aiosignal>=1.1.2 in /opt/anaconda3/envs/av/lib/python3.12/site-packages (from aiohttp<4.0.0,>=3.8.3->langchain) (1.2.0)\n",
      "Requirement already satisfied: attrs>=17.3.0 in /opt/anaconda3/envs/av/lib/python3.12/site-packages (from aiohttp<4.0.0,>=3.8.3->langchain) (23.1.0)\n",
      "Requirement already satisfied: frozenlist>=1.1.1 in /opt/anaconda3/envs/av/lib/python3.12/site-packages (from aiohttp<4.0.0,>=3.8.3->langchain) (1.4.0)\n",
      "Requirement already satisfied: multidict<7.0,>=4.5 in /opt/anaconda3/envs/av/lib/python3.12/site-packages (from aiohttp<4.0.0,>=3.8.3->langchain) (6.0.4)\n",
      "Requirement already satisfied: yarl<2.0,>=1.0 in /opt/anaconda3/envs/av/lib/python3.12/site-packages (from aiohttp<4.0.0,>=3.8.3->langchain) (1.9.3)\n",
      "Requirement already satisfied: jsonpatch<2.0,>=1.33 in /opt/anaconda3/envs/av/lib/python3.12/site-packages (from langchain-core<0.3.0,>=0.2.32->langchain) (1.33)\n",
      "Requirement already satisfied: packaging<25,>=23.2 in /opt/anaconda3/envs/av/lib/python3.12/site-packages (from langchain-core<0.3.0,>=0.2.32->langchain) (23.2)\n",
      "Requirement already satisfied: typing-extensions>=4.7 in /opt/anaconda3/envs/av/lib/python3.12/site-packages (from langchain-core<0.3.0,>=0.2.32->langchain) (4.11.0)\n",
      "Requirement already satisfied: httpx<1,>=0.23.0 in /opt/anaconda3/envs/av/lib/python3.12/site-packages (from langsmith<0.2.0,>=0.1.17->langchain) (0.27.0)\n",
      "Requirement already satisfied: orjson<4.0.0,>=3.9.14 in /opt/anaconda3/envs/av/lib/python3.12/site-packages (from langsmith<0.2.0,>=0.1.17->langchain) (3.10.7)\n",
      "Requirement already satisfied: annotated-types>=0.4.0 in /opt/anaconda3/envs/av/lib/python3.12/site-packages (from pydantic<3,>=1->langchain) (0.7.0)\n",
      "Requirement already satisfied: pydantic-core==2.20.1 in /opt/anaconda3/envs/av/lib/python3.12/site-packages (from pydantic<3,>=1->langchain) (2.20.1)\n",
      "Requirement already satisfied: charset-normalizer<4,>=2 in /opt/anaconda3/envs/av/lib/python3.12/site-packages (from requests<3,>=2->langchain) (2.0.4)\n",
      "Requirement already satisfied: idna<4,>=2.5 in /opt/anaconda3/envs/av/lib/python3.12/site-packages (from requests<3,>=2->langchain) (3.7)\n",
      "Requirement already satisfied: urllib3<3,>=1.21.1 in /opt/anaconda3/envs/av/lib/python3.12/site-packages (from requests<3,>=2->langchain) (2.2.1)\n",
      "Requirement already satisfied: certifi>=2017.4.17 in /opt/anaconda3/envs/av/lib/python3.12/site-packages (from requests<3,>=2->langchain) (2024.6.2)\n",
      "Requirement already satisfied: greenlet!=0.4.17 in /opt/anaconda3/envs/av/lib/python3.12/site-packages (from SQLAlchemy<3,>=1.4->langchain) (3.0.1)\n",
      "Requirement already satisfied: anyio in /opt/anaconda3/envs/av/lib/python3.12/site-packages (from httpx<1,>=0.23.0->langsmith<0.2.0,>=0.1.17->langchain) (4.2.0)\n",
      "Requirement already satisfied: httpcore==1.* in /opt/anaconda3/envs/av/lib/python3.12/site-packages (from httpx<1,>=0.23.0->langsmith<0.2.0,>=0.1.17->langchain) (1.0.5)\n",
      "Requirement already satisfied: sniffio in /opt/anaconda3/envs/av/lib/python3.12/site-packages (from httpx<1,>=0.23.0->langsmith<0.2.0,>=0.1.17->langchain) (1.3.0)\n",
      "Requirement already satisfied: h11<0.15,>=0.13 in /opt/anaconda3/envs/av/lib/python3.12/site-packages (from httpcore==1.*->httpx<1,>=0.23.0->langsmith<0.2.0,>=0.1.17->langchain) (0.14.0)\n",
      "Requirement already satisfied: jsonpointer>=1.9 in /opt/anaconda3/envs/av/lib/python3.12/site-packages (from jsonpatch<2.0,>=1.33->langchain-core<0.3.0,>=0.2.32->langchain) (3.0.0)\n",
      "Requirement already satisfied: langchain-openai in /opt/anaconda3/envs/av/lib/python3.12/site-packages (0.1.22)\n",
      "Requirement already satisfied: langchain-core<0.3.0,>=0.2.33 in /opt/anaconda3/envs/av/lib/python3.12/site-packages (from langchain-openai) (0.2.33)\n",
      "Requirement already satisfied: openai<2.0.0,>=1.40.0 in /opt/anaconda3/envs/av/lib/python3.12/site-packages (from langchain-openai) (1.41.1)\n",
      "Requirement already satisfied: tiktoken<1,>=0.7 in /opt/anaconda3/envs/av/lib/python3.12/site-packages (from langchain-openai) (0.7.0)\n",
      "Requirement already satisfied: PyYAML>=5.3 in /opt/anaconda3/envs/av/lib/python3.12/site-packages (from langchain-core<0.3.0,>=0.2.33->langchain-openai) (6.0.1)\n",
      "Requirement already satisfied: jsonpatch<2.0,>=1.33 in /opt/anaconda3/envs/av/lib/python3.12/site-packages (from langchain-core<0.3.0,>=0.2.33->langchain-openai) (1.33)\n",
      "Requirement already satisfied: langsmith<0.2.0,>=0.1.75 in /opt/anaconda3/envs/av/lib/python3.12/site-packages (from langchain-core<0.3.0,>=0.2.33->langchain-openai) (0.1.100)\n",
      "Requirement already satisfied: packaging<25,>=23.2 in /opt/anaconda3/envs/av/lib/python3.12/site-packages (from langchain-core<0.3.0,>=0.2.33->langchain-openai) (23.2)\n",
      "Requirement already satisfied: pydantic<3,>=1 in /opt/anaconda3/envs/av/lib/python3.12/site-packages (from langchain-core<0.3.0,>=0.2.33->langchain-openai) (2.8.2)\n",
      "Requirement already satisfied: tenacity!=8.4.0,<9.0.0,>=8.1.0 in /opt/anaconda3/envs/av/lib/python3.12/site-packages (from langchain-core<0.3.0,>=0.2.33->langchain-openai) (8.2.2)\n",
      "Requirement already satisfied: typing-extensions>=4.7 in /opt/anaconda3/envs/av/lib/python3.12/site-packages (from langchain-core<0.3.0,>=0.2.33->langchain-openai) (4.11.0)\n",
      "Requirement already satisfied: anyio<5,>=3.5.0 in /opt/anaconda3/envs/av/lib/python3.12/site-packages (from openai<2.0.0,>=1.40.0->langchain-openai) (4.2.0)\n",
      "Requirement already satisfied: distro<2,>=1.7.0 in /opt/anaconda3/envs/av/lib/python3.12/site-packages (from openai<2.0.0,>=1.40.0->langchain-openai) (1.9.0)\n",
      "Requirement already satisfied: httpx<1,>=0.23.0 in /opt/anaconda3/envs/av/lib/python3.12/site-packages (from openai<2.0.0,>=1.40.0->langchain-openai) (0.27.0)\n",
      "Requirement already satisfied: jiter<1,>=0.4.0 in /opt/anaconda3/envs/av/lib/python3.12/site-packages (from openai<2.0.0,>=1.40.0->langchain-openai) (0.5.0)\n",
      "Requirement already satisfied: sniffio in /opt/anaconda3/envs/av/lib/python3.12/site-packages (from openai<2.0.0,>=1.40.0->langchain-openai) (1.3.0)\n",
      "Requirement already satisfied: tqdm>4 in /opt/anaconda3/envs/av/lib/python3.12/site-packages (from openai<2.0.0,>=1.40.0->langchain-openai) (4.66.4)\n",
      "Requirement already satisfied: regex>=2022.1.18 in /opt/anaconda3/envs/av/lib/python3.12/site-packages (from tiktoken<1,>=0.7->langchain-openai) (2023.10.3)\n",
      "Requirement already satisfied: requests>=2.26.0 in /opt/anaconda3/envs/av/lib/python3.12/site-packages (from tiktoken<1,>=0.7->langchain-openai) (2.32.2)\n",
      "Requirement already satisfied: idna>=2.8 in /opt/anaconda3/envs/av/lib/python3.12/site-packages (from anyio<5,>=3.5.0->openai<2.0.0,>=1.40.0->langchain-openai) (3.7)\n",
      "Requirement already satisfied: certifi in /opt/anaconda3/envs/av/lib/python3.12/site-packages (from httpx<1,>=0.23.0->openai<2.0.0,>=1.40.0->langchain-openai) (2024.6.2)\n",
      "Requirement already satisfied: httpcore==1.* in /opt/anaconda3/envs/av/lib/python3.12/site-packages (from httpx<1,>=0.23.0->openai<2.0.0,>=1.40.0->langchain-openai) (1.0.5)\n",
      "Requirement already satisfied: h11<0.15,>=0.13 in /opt/anaconda3/envs/av/lib/python3.12/site-packages (from httpcore==1.*->httpx<1,>=0.23.0->openai<2.0.0,>=1.40.0->langchain-openai) (0.14.0)\n",
      "Requirement already satisfied: jsonpointer>=1.9 in /opt/anaconda3/envs/av/lib/python3.12/site-packages (from jsonpatch<2.0,>=1.33->langchain-core<0.3.0,>=0.2.33->langchain-openai) (3.0.0)\n",
      "Requirement already satisfied: orjson<4.0.0,>=3.9.14 in /opt/anaconda3/envs/av/lib/python3.12/site-packages (from langsmith<0.2.0,>=0.1.75->langchain-core<0.3.0,>=0.2.33->langchain-openai) (3.10.7)\n",
      "Requirement already satisfied: annotated-types>=0.4.0 in /opt/anaconda3/envs/av/lib/python3.12/site-packages (from pydantic<3,>=1->langchain-core<0.3.0,>=0.2.33->langchain-openai) (0.7.0)\n",
      "Requirement already satisfied: pydantic-core==2.20.1 in /opt/anaconda3/envs/av/lib/python3.12/site-packages (from pydantic<3,>=1->langchain-core<0.3.0,>=0.2.33->langchain-openai) (2.20.1)\n",
      "Requirement already satisfied: charset-normalizer<4,>=2 in /opt/anaconda3/envs/av/lib/python3.12/site-packages (from requests>=2.26.0->tiktoken<1,>=0.7->langchain-openai) (2.0.4)\n",
      "Requirement already satisfied: urllib3<3,>=1.21.1 in /opt/anaconda3/envs/av/lib/python3.12/site-packages (from requests>=2.26.0->tiktoken<1,>=0.7->langchain-openai) (2.2.1)\n"
     ]
    }
   ],
   "source": [
    "!pip install langchain\n",
    "!pip install langchain-openai"
   ]
  },
  {
   "cell_type": "code",
   "execution_count": 8,
   "id": "7972af21-98f3-4b39-b3c5-a5f48e80b41d",
   "metadata": {},
   "outputs": [],
   "source": [
    "import yaml\n",
    "with open('chatgpt-api-credentials.yml') as file:\n",
    "    api_creds = yaml.safe_load(file)"
   ]
  },
  {
   "cell_type": "code",
   "execution_count": 9,
   "id": "6f6c41b6-4219-413d-b87e-8d506b505c02",
   "metadata": {},
   "outputs": [
    {
     "data": {
      "text/plain": [
       "dict_keys(['OPENAI-API-KEY'])"
      ]
     },
     "execution_count": 9,
     "metadata": {},
     "output_type": "execute_result"
    }
   ],
   "source": [
    "api_creds.keys()"
   ]
  },
  {
   "cell_type": "code",
   "execution_count": 10,
   "id": "9532af00-9928-42d7-9f41-7fabcddc813c",
   "metadata": {},
   "outputs": [],
   "source": [
    "import os\n",
    "os.environ['OPENAI_API_KEY'] = api_creds['OPENAI-API-KEY']"
   ]
  },
  {
   "cell_type": "code",
   "execution_count": 11,
   "id": "8cd3d7db-d29e-44bf-b039-5910647e77f3",
   "metadata": {},
   "outputs": [],
   "source": [
    "from langchain_openai import ChatOpenAI\n",
    "\n",
    "model = ChatOpenAI(model_name='gpt-4o', temperature=0.0)"
   ]
  },
  {
   "cell_type": "code",
   "execution_count": 13,
   "id": "f285e4e1-6d19-4d5b-836d-ee8bf91b7c5a",
   "metadata": {},
   "outputs": [],
   "source": [
    "from langchain.memory import ConversationBufferWindowMemory\n",
    "from langchain_core.prompts import ChatPromptTemplate, MessagesPlaceholder\n",
    "from langchain_core.runnables import RunnableLambda, RunnablePassthrough\n",
    "from operator import itemgetter\n",
    "\n",
    "def run_chatgpt_prompt(system_prompt='',history_window=30,temperature=0.3,llm=model):\n",
    "    if system_prompt:\n",
    "        SYS_PROMPT = system_prompt\n",
    "    else:\n",
    "        SYS_PROMPT = \"\"\"\n",
    "        Act as a helpful AI Assistant\n",
    "        \"\"\"\n",
    "    prompt = ChatPromptTemplate.from_messages(\n",
    "        [\n",
    "            ('system',SYS_PROMPT),\n",
    "            MessagesPlaceholder(variable_name=\"history\"),\n",
    "            ('human','{input}')\n",
    "        ]\n",
    "    )\n",
    "    memory = ConversationBufferWindowMemory(k=history_window,return_messages=True)\n",
    "    conversation_chain = (\n",
    "        RunnablePassthrough.assign(\n",
    "            history=RunnableLambda(memory.load_memory_variables)\n",
    "            |\n",
    "            itemgetter(\"history\")\n",
    "        )\n",
    "        |\n",
    "        prompt\n",
    "        |\n",
    "        llm\n",
    "    )\n",
    "    print(\"Hello! I'm your friendly chatbot. Let's chat (Type 'STOP' to end)\")\n",
    "    while True:\n",
    "        prompt = input(\"USER: >>>\")\n",
    "        if prompt.strip().upper() == 'STOP':\n",
    "            print(\"ChatGPT: >>> Goodbye!\")\n",
    "            break\n",
    "        user_input = {'input':prompt}\n",
    "        reply = conversation_chain.invoke(user_input)\n",
    "        print(f\"ChatGPT: >>>\\n {reply.content}\")\n",
    "        memory.save_context(user_input,{'output':reply.content})\n",
    "        "
   ]
  },
  {
   "cell_type": "code",
   "execution_count": null,
   "id": "e97ba3d7-7842-4f39-8082-b26acf81a9c0",
   "metadata": {},
   "outputs": [
    {
     "name": "stdout",
     "output_type": "stream",
     "text": [
      "Hello! I'm your friendly chatbot. Let's chat (Type 'STOP' to end)\n"
     ]
    },
    {
     "name": "stdin",
     "output_type": "stream",
     "text": [
      "USER: >>> what is 10*3?\n"
     ]
    },
    {
     "name": "stdout",
     "output_type": "stream",
     "text": [
      "ChatGPT: >>>\n",
      " 10 multiplied by 3 equals 30.\n"
     ]
    },
    {
     "name": "stdin",
     "output_type": "stream",
     "text": [
      "USER: >>> tell me a joke about india\n"
     ]
    },
    {
     "name": "stdout",
     "output_type": "stream",
     "text": [
      "ChatGPT: >>>\n",
      " Sure, here's a light-hearted joke about India:\n",
      "\n",
      "Why did the scarecrow become a successful Bollywood actor?\n",
      "\n",
      "Because he was outstanding in his field!\n"
     ]
    }
   ],
   "source": [
    "run_chatgpt_prompt()"
   ]
  },
  {
   "cell_type": "code",
   "execution_count": null,
   "id": "852bfb90-1fae-42ad-a5df-1eed6fa049c1",
   "metadata": {},
   "outputs": [],
   "source": []
  },
  {
   "cell_type": "code",
   "execution_count": null,
   "id": "26142384-c949-4ffc-83df-aec7df21c8bd",
   "metadata": {},
   "outputs": [],
   "source": []
  },
  {
   "cell_type": "code",
   "execution_count": null,
   "id": "7ac53299-8b5b-4431-945e-c2b445d7f1e2",
   "metadata": {},
   "outputs": [],
   "source": []
  }
 ],
 "metadata": {
  "kernelspec": {
   "display_name": "Python 3 (ipykernel)",
   "language": "python",
   "name": "python3"
  },
  "language_info": {
   "codemirror_mode": {
    "name": "ipython",
    "version": 3
   },
   "file_extension": ".py",
   "mimetype": "text/x-python",
   "name": "python",
   "nbconvert_exporter": "python",
   "pygments_lexer": "ipython3",
   "version": "3.12.3"
  }
 },
 "nbformat": 4,
 "nbformat_minor": 5
}
